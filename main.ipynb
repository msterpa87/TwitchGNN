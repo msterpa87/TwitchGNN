{
 "cells": [
  {
   "cell_type": "code",
   "execution_count": 6,
   "metadata": {},
   "outputs": [
    {
     "name": "stdout",
     "output_type": "stream",
     "text": [
      "The autoreload extension is already loaded. To reload it, use:\n",
      "  %reload_ext autoreload\n"
     ]
    }
   ],
   "source": [
    "%load_ext autoreload\n",
    "%autoreload 2\n",
    "\n",
    "import tensorflow as tf\n",
    "from tensorflow.keras.optimizers import Adam\n",
    "from tensorflow.keras.losses import CategoricalCrossentropy\n",
    "from tensorflow.keras.metrics import CategoricalAccuracy\n",
    "import matplotlib.pyplot as plt\n",
    "from os import listdir\n",
    "\n",
    "from models import *\n",
    "from utils import *\n",
    "\n",
    "import warnings\n",
    "from scipy.sparse import SparseEfficiencyWarning\n",
    "warnings.filterwarnings(\"ignore\", category=RuntimeWarning)\n",
    "warnings.filterwarnings(\"ignore\", category=SparseEfficiencyWarning)"
   ]
  },
  {
   "cell_type": "code",
   "execution_count": 15,
   "metadata": {},
   "outputs": [],
   "source": [
    "class ModelEval():\n",
    "    def __init__(self, print_freq=10, epochs=100, continual_learning=False,\n",
    "                 lambda_=0.1, lr=0.001, verbose=True, print_previous_val=False):\n",
    "        super(ModelEval, self).__init__()\n",
    "\n",
    "        self.print_freq = print_freq\n",
    "        self.tasks = load_tasks()\n",
    "        self.prior_weights = dict()\n",
    "        self.fisher_matrix = dict()\n",
    "        self.loss_fn = CategoricalCrossentropy()\n",
    "        self.mean_accuracy = GlobalAccuracy()\n",
    "        self.lr = lr\n",
    "        self.continual_learning = continual_learning\n",
    "        self.epochs = epochs\n",
    "        self.lambda_ = lambda_\n",
    "        self.model = None\n",
    "        self.verbose = verbose\n",
    "        self.print_previous_val = print_previous_val\n",
    "    \n",
    "    def train(self, task_num):\n",
    "        (x, adj, y), (mask_tr, _, _) = self.tasks[task_num]\n",
    "\n",
    "        # initialize model if not already trained\n",
    "        if not self.continual_learning or self.model is None:\n",
    "            self.model = GNNNodeClassifier()\n",
    "        \n",
    "        accuracy = CategoricalAccuracy()\n",
    "        optim = Adam(learning_rate=self.lr)\n",
    "        \n",
    "        for i in range(self.epochs+1):\n",
    "            with tf.GradientTape() as tape:\n",
    "                pred = self.model([x, adj])\n",
    "                loss = self.loss_fn(y[mask_tr], pred[mask_tr])\n",
    "\n",
    "                # if continual learning is enabled add l2 loss wrt previous weights\n",
    "                if self.continual_learning:\n",
    "                    for j in range(task_num):\n",
    "                        fisher_mat = self.fisher_matrix[j]\n",
    "                        theta = self.prior_weights[j]\n",
    "                        theta_new = flat_tensor_list(self.model.trainable_variables)\n",
    "                        penalty = self.lambda_ * tf.reduce_sum(fisher_mat * ((theta-theta_new)**2))\n",
    "                        loss += penalty\n",
    "                \n",
    "            accuracy.update_state(y_pred=pred[mask_tr], y_true=y[mask_tr])\n",
    "\n",
    "            gradients = tape.gradient(loss, self.model.trainable_variables)\n",
    "            optim.apply_gradients(zip(gradients, self.model.trainable_variables))\n",
    "\n",
    "            acc = accuracy.result().numpy()\n",
    "            \n",
    "            if i % self.print_freq == 0 and self.verbose:\n",
    "                val_acc = self.test(task_num, validation=True, print_acc=False)\n",
    "                s = f\"epoch={i}, train_loss={loss:.3f}, train_acc={acc:.3f}, val_acc={val_acc:.3f}\"\n",
    "                \n",
    "                if self.print_previous_val:\n",
    "                    for j in range(task_num):\n",
    "                        prev_acc = self.test(j, validation=True, print_acc=False)\n",
    "                        s += f\", task[{j}]_val_acc={prev_acc:.3f}\"\n",
    "                \n",
    "                print(s)\n",
    "        \n",
    "        # after training on current task add accuracy on previous tasks\n",
    "        for i in range(task_num+1):\n",
    "            (x_prev, a_prev, y_prev), (_, _, mask_te_prev) = self.tasks[i]\n",
    "            pred_prev = self.model([x_prev, a_prev])\n",
    "            self.mean_accuracy.update_state(y_pred=pred_prev[mask_te_prev],\n",
    "                                            y_true=y_prev[mask_te_prev])\n",
    "\n",
    "        # save the flatted list of parameters and fisher matrix of current model\n",
    "        self.prior_weights[task_num] = flat_tensor_list(self.model.trainable_variables)\n",
    "        self.fisher_matrix[task_num] = self.compute_fisher(task_num)\n",
    "    \n",
    "    def compute_fisher(self, task_num):\n",
    "        with tf.GradientTape() as tape:\n",
    "            (x, a, y), (mask_tr, _, _) = self.tasks[task_num]\n",
    "            pred = self.model([x, a])\n",
    "            loss = self.loss_fn(y_pred=pred[mask_tr], y_true=y[mask_tr])\n",
    "        \n",
    "        gradients = tape.gradient(loss, self.model.trainable_variables)\n",
    "\n",
    "        return flat_tensor_list(gradients)**2\n",
    "\n",
    "    def test(self, task_num, validation=False, print_acc=True):\n",
    "        (x, adj, y), (_, mask_va, mask_te) = self.tasks[task_num]\n",
    "\n",
    "        mask = [mask_te, mask_va][validation]\n",
    "\n",
    "        pred = self.model([x, adj])\n",
    "        accuracy = CategoricalAccuracy()\n",
    "        accuracy.update_state(y_pred=pred[mask], y_true=y[mask])\n",
    "        val = accuracy.result().numpy()\n",
    "        \n",
    "        if print_acc:\n",
    "            print(f\"accuracy task {task_num} = {val:.3f}\")\n",
    "        \n",
    "        return val\n",
    "    \n",
    "    def print_mean_accuracy(self):\n",
    "        acc = self.mean_accuracy.result().numpy()\n",
    "        print(f\"mean_accuracy = {acc:.3f}\")"
   ]
  },
  {
   "cell_type": "code",
   "execution_count": 81,
   "metadata": {},
   "outputs": [
    {
     "name": "stdout",
     "output_type": "stream",
     "text": [
      "Pre-processing node features\n",
      "Accuracy after training on the task:\n",
      "accuracy task 0 = 0.788\n",
      "accuracy task 1 = 0.851\n",
      "mean_accuracy = 0.654\n"
     ]
    }
   ],
   "source": [
    "n_tasks = 2\n",
    "epochs = 80\n",
    "\n",
    "model_eval = ModelEval(epochs=epochs, continual_learning=False, verbose=False)\n",
    "\n",
    "print(\"Accuracy after training on the task:\")\n",
    "for i in range(n_tasks):\n",
    "    model_eval.train(i)\n",
    "    model_eval.test(i)\n",
    "\n",
    "model_eval.print_mean_accuracy()"
   ]
  },
  {
   "cell_type": "code",
   "execution_count": 65,
   "metadata": {},
   "outputs": [
    {
     "name": "stdout",
     "output_type": "stream",
     "text": [
      "Pre-processing node features\n",
      "Accuracy after training on all 3 tasks:\n",
      "accuracy task 0 = 0.285\n",
      "accuracy task 1 = 0.886\n",
      "mean_accuracy = 0.638\n"
     ]
    }
   ],
   "source": [
    "model_eval = ModelEval(verbose=False)\n",
    "\n",
    "model_eval.train(0, )\n",
    "model_eval.train(1)\n",
    "#model_eval.train(2)\n",
    "\n",
    "print(\"Accuracy after training on all 3 tasks:\")\n",
    "model_eval.test(0)\n",
    "model_eval.test(1)\n",
    "#model_eval.test(2)\n",
    "\n",
    "model_eval.print_mean_accuracy()"
   ]
  },
  {
   "cell_type": "code",
   "execution_count": 16,
   "metadata": {},
   "outputs": [
    {
     "name": "stdout",
     "output_type": "stream",
     "text": [
      "Pre-processing node features\n",
      "Training on task 0\n",
      "epoch=0, train_loss=0.693, train_acc=0.686, val_acc=0.691\n",
      "epoch=25, train_loss=0.589, train_acc=0.691, val_acc=0.691\n",
      "epoch=50, train_loss=0.430, train_acc=0.691, val_acc=0.691\n",
      "epoch=75, train_loss=0.283, train_acc=0.734, val_acc=0.735\n",
      "epoch=100, train_loss=0.176, train_acc=0.780, val_acc=0.750\n",
      "\n",
      "Training on task 1\n",
      "epoch=0, train_loss=5.001, train_acc=0.529, val_acc=0.510, task[0]_val_acc=0.750\n",
      "epoch=25, train_loss=1.118, train_acc=0.456, val_acc=0.460, task[0]_val_acc=0.309\n",
      "epoch=50, train_loss=0.567, train_acc=0.529, val_acc=0.580, task[0]_val_acc=0.338\n",
      "epoch=75, train_loss=0.450, train_acc=0.610, val_acc=0.730, task[0]_val_acc=0.353\n",
      "epoch=100, train_loss=0.361, train_acc=0.664, val_acc=0.770, task[0]_val_acc=0.338\n",
      "\n",
      "Testing on task 0\n",
      "accuracy task 0 = 0.314\n",
      "\n",
      "Testing on task 1\n",
      "accuracy task 1 = 0.777\n",
      "\n",
      "mean_accuracy = 0.651\n"
     ]
    }
   ],
   "source": [
    "model_eval = ModelEval(continual_learning=True, lr=0.001, lambda_=1e4,\n",
    "                       verbose=True, epochs=100, print_freq=25, print_previous_val=True)\n",
    "\n",
    "num_tasks = 2\n",
    "\n",
    "for i in range(num_tasks):\n",
    "    print(f\"Training on task {i}\")\n",
    "    model_eval.train(i)\n",
    "    print()\n",
    "\n",
    "for i in range(num_tasks):\n",
    "    print(f\"Testing on task {i}\")\n",
    "    model_eval.test(i)\n",
    "    print()\n",
    "\n",
    "model_eval.print_mean_accuracy()"
   ]
  },
  {
   "cell_type": "code",
   "execution_count": null,
   "metadata": {},
   "outputs": [],
   "source": []
  }
 ],
 "metadata": {
  "interpreter": {
   "hash": "4a0cdf5044e235b24d1fc042fb09c724f9ff16da5a82a5cb2270a9975034c9c0"
  },
  "kernelspec": {
   "display_name": "Python 3.9.2 64-bit (system)",
   "language": "python",
   "name": "python3"
  },
  "language_info": {
   "codemirror_mode": {
    "name": "ipython",
    "version": 3
   },
   "file_extension": ".py",
   "mimetype": "text/x-python",
   "name": "python",
   "nbconvert_exporter": "python",
   "pygments_lexer": "ipython3",
   "version": "3.9.2"
  },
  "orig_nbformat": 4
 },
 "nbformat": 4,
 "nbformat_minor": 2
}
